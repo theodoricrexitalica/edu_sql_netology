{
 "cells": [
  {
   "cell_type": "markdown",
   "metadata": {},
   "source": [
    "# Libs"
   ]
  },
  {
   "cell_type": "code",
   "execution_count": 2,
   "metadata": {},
   "outputs": [
    {
     "data": {
      "text/plain": [
       "True"
      ]
     },
     "execution_count": 2,
     "metadata": {},
     "output_type": "execute_result"
    }
   ],
   "source": [
    "import warnings\n",
    "warnings.filterwarnings('ignore', category=DeprecationWarning)\n",
    "warnings.filterwarnings('ignore', category=UserWarning)\n",
    "\n",
    "import psycopg2 \n",
    "import pandas as pd\n",
    "import matplotlib.pyplot as plt\n",
    "import numpy as np\n",
    "import seaborn as sns\n",
    "from dotenv import load_dotenv\n",
    "import os\n",
    "\n",
    "load_dotenv()"
   ]
  },
  {
   "cell_type": "markdown",
   "metadata": {},
   "source": [
    "# Connection"
   ]
  },
  {
   "cell_type": "code",
   "execution_count": 3,
   "metadata": {},
   "outputs": [
    {
     "name": "stdout",
     "output_type": "stream",
     "text": [
      "Подключение к ('PostgreSQL 15.8 (Debian 15.8-1.pgdg120+1) on x86_64-pc-linux-gnu, compiled by gcc (Debian 12.2.0-14) 12.2.0, 64-bit',) выполнено\n"
     ]
    }
   ],
   "source": [
    "USER = os.environ.get('POSTGRES_USER')\n",
    "PASSWORD = os.environ.get('POSTGRES_PASSWORD')\n",
    "DB = os.environ.get('POSTGRES_DB_stepik')\n",
    "\n",
    "conn_string = psycopg2.connect(f\"dbname={DB} user='{USER}' host='localhost' password='{PASSWORD}'\")\n",
    "cursor = conn_string.cursor()\n",
    "cursor.execute(\"SELECT version();\")\n",
    "record = cursor.fetchone()\n",
    "print(f\"Подключение к {record} выполнено\")"
   ]
  },
  {
   "cell_type": "markdown",
   "metadata": {},
   "source": [
    "# 1. Data selection"
   ]
  },
  {
   "cell_type": "code",
   "execution_count": 64,
   "metadata": {},
   "outputs": [
    {
     "data": {
      "text/html": [
       "<div>\n",
       "<style scoped>\n",
       "    .dataframe tbody tr th:only-of-type {\n",
       "        vertical-align: middle;\n",
       "    }\n",
       "\n",
       "    .dataframe tbody tr th {\n",
       "        vertical-align: top;\n",
       "    }\n",
       "\n",
       "    .dataframe thead th {\n",
       "        text-align: right;\n",
       "    }\n",
       "</style>\n",
       "<table border=\"1\" class=\"dataframe\">\n",
       "  <thead>\n",
       "    <tr style=\"text-align: right;\">\n",
       "      <th></th>\n",
       "      <th>author</th>\n",
       "      <th>title</th>\n",
       "      <th>price</th>\n",
       "    </tr>\n",
       "  </thead>\n",
       "  <tbody>\n",
       "    <tr>\n",
       "      <th>0</th>\n",
       "      <td>Донцова Дарья</td>\n",
       "      <td>Евлампия Романова и Братья Карамазовы</td>\n",
       "      <td>1134.59</td>\n",
       "    </tr>\n",
       "    <tr>\n",
       "      <th>1</th>\n",
       "      <td>Донцова Дарья</td>\n",
       "      <td>Евлампия Романова и Мастер и Маргарита</td>\n",
       "      <td>952.81</td>\n",
       "    </tr>\n",
       "    <tr>\n",
       "      <th>2</th>\n",
       "      <td>Донцова Дарья</td>\n",
       "      <td>Евлампия Романова и Стихотворения и поэмы</td>\n",
       "      <td>923.00</td>\n",
       "    </tr>\n",
       "    <tr>\n",
       "      <th>3</th>\n",
       "      <td>Донцова Дарья</td>\n",
       "      <td>Евлампия Романова и Белая гвардия</td>\n",
       "      <td>767.51</td>\n",
       "    </tr>\n",
       "    <tr>\n",
       "      <th>4</th>\n",
       "      <td>Донцова Дарья</td>\n",
       "      <td>Евлампия Романова и Игрок</td>\n",
       "      <td>682.31</td>\n",
       "    </tr>\n",
       "    <tr>\n",
       "      <th>5</th>\n",
       "      <td>Донцова Дарья</td>\n",
       "      <td>Евлампия Романова и Идиот</td>\n",
       "      <td>653.20</td>\n",
       "    </tr>\n",
       "  </tbody>\n",
       "</table>\n",
       "</div>"
      ],
      "text/plain": [
       "          author                                      title    price\n",
       "0  Донцова Дарья      Евлампия Романова и Братья Карамазовы  1134.59\n",
       "1  Донцова Дарья     Евлампия Романова и Мастер и Маргарита   952.81\n",
       "2  Донцова Дарья  Евлампия Романова и Стихотворения и поэмы   923.00\n",
       "3  Донцова Дарья          Евлампия Романова и Белая гвардия   767.51\n",
       "4  Донцова Дарья                  Евлампия Романова и Игрок   682.31\n",
       "5  Донцова Дарья                  Евлампия Романова и Идиот   653.20"
      ]
     },
     "execution_count": 64,
     "metadata": {},
     "output_type": "execute_result"
    }
   ],
   "source": [
    "# 1. Вывести информацию о всех книгах, хранящихся на складе.\n",
    "q1 = ('  select * from book')\n",
    "# 2. Выбрать названия книг и авторов из таблицы book, для поля title задать имя(псевдоним) Название, для поля author –  Автор.\n",
    "q2 = ('  select title as Название, author as Автор from book')\n",
    "# 3. Для упаковки каждой книги требуется один лист бумаги, цена которого 1 рубль 65 копеек. Посчитать стоимость упаковки для каждой книги \n",
    "# (сколько денег потребуется, чтобы упаковать все экземпляры книги). В запросе вывести название книги, ее количество и стоимость упаковки, \n",
    "# последний столбец назвать pack. \n",
    "q3 = (' select title, amount, amount * 1.65 as pack \\\n",
    "        from book')\n",
    "# 4. В конце года цену каждой книги на складе пересчитывают – снижают ее на 30%. Написать SQL запрос, который из таблицы book выбирает названия, авторов, количества и \n",
    "# вычисляет новые цены книг. Столбец с новой ценой назвать new_price, цену округлить до 2-х знаков после запятой.\n",
    "q4 = (' select title, author, amount, \\\n",
    "        round((price*0.7),2) as new_price \\\n",
    "        from book')\n",
    "# 5. При анализе продаж книг выяснилось, что наибольшей популярностью пользуются книги Михаила Булгакова, на втором месте книги Сергея Есенина. \n",
    "# Исходя из этого решили поднять цену книг Булгакова на 10%, а цену книг Есенина - на 5%. Написать запрос, куда включить автора, название книги и новую цену, \n",
    "# последний столбец назвать new_price. Значение округлить до двух знаков после запятой.\n",
    "q5 = (  'select author, title, '\n",
    "        'round( '\n",
    "        '       case '\n",
    "        '           when author = \\'Булгаков М.А.\\' then price * 1.1 '\n",
    "        '           when author = \\'Есенин С.А.\\' then price * 1.05 '\n",
    "        '           else price '\n",
    "        '       end, 2) as new_price '\n",
    "        'from book')\n",
    "# 6. Вывести автора, название  и цены тех книг, количество которых меньше 10.\n",
    "q6 = (' select author, title, price \\\n",
    "        from book where amount < 10')\n",
    "# 7. Вывести название, автора,  цену  и количество всех книг, цена которых меньше 500 или больше 600, \n",
    "# а стоимость всех экземпляров этих книг больше или равна 5000.\n",
    "q7 = (' select title, author, price, amount \\\n",
    "        from book \\\n",
    "        where (price < 500 OR price > 600) and price*amount >= 5000')\n",
    "# 8. Вывести название и авторов тех книг, цены которых принадлежат интервалу от 540.50 до 800 (включая границы),  \n",
    "# а количество или 2, или 3, или 5, или 7.\n",
    "q8 = (' select title, author \\\n",
    "        from book \\\n",
    "        where price between 540.5 and 800 and amount in (2, 3, 5, 7)')\n",
    "# 9. Вывести  автора и название  книг, количество которых принадлежит интервалу от 2 до 14 (включая границы). \n",
    "# Информацию  отсортировать сначала по авторам (в обратном алфавитном порядке), а затем по названиям книг (по алфавиту).\n",
    "q9 = (' select author, title \\\n",
    "        from book \\\n",
    "        where amount between 2 and 14 \\\n",
    "        order by author desc, title asc')\n",
    "# 10. Вывести название и автора тех книг, название которых состоит из двух и более слов, а инициалы автора содержат букву «С». \n",
    "# Считать, что в названии слова отделяются друг от друга пробелами и не содержат знаков препинания, между фамилией автора \n",
    "# и инициалами обязателен пробел, инициалы записываются без пробела в формате: буква, точка, буква, точка. \n",
    "# Информацию отсортировать по названию книги в алфавитном порядке.\n",
    "q10 = ('select title, author from book \\\n",
    "        where title like \\'_% _%\\' and author like \\'%С.%\\' \\\n",
    "        order by title asc')\n",
    "# 11. Магазин счёл, что классика уже не пользуется популярностью, поэтому необходимо в выборке:\n",
    "# Сменить всех авторов на \"Донцова Дарья\".\n",
    "# К названию каждой книги в начале дописать \"Евлампия Романова и\".\n",
    "# Цену поднять на 42%.\n",
    "# Отсортировать по убыванию цены и убыванию названия.\n",
    "q11 = ( 'select \\'Донцова Дарья\\' as author,' + \n",
    "        'concat(\\'Евлампия Романова и \\' , title) as title, ' +\n",
    "        'round((price * 1.42),2) as price '+\n",
    "        'from book order by price desc, title desc')\n",
    "\n",
    "data = pd.read_sql(q11, con=conn_string)\n",
    "data"
   ]
  },
  {
   "cell_type": "code",
   "execution_count": null,
   "metadata": {},
   "outputs": [],
   "source": []
  },
  {
   "cell_type": "code",
   "execution_count": null,
   "metadata": {},
   "outputs": [],
   "source": []
  }
 ],
 "metadata": {
  "kernelspec": {
   "display_name": "Python 3",
   "language": "python",
   "name": "python3"
  },
  "language_info": {
   "codemirror_mode": {
    "name": "ipython",
    "version": 3
   },
   "file_extension": ".py",
   "mimetype": "text/x-python",
   "name": "python",
   "nbconvert_exporter": "python",
   "pygments_lexer": "ipython3",
   "version": "3.11.5"
  }
 },
 "nbformat": 4,
 "nbformat_minor": 2
}
